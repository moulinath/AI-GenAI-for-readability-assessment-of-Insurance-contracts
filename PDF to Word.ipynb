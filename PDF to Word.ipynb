{
 "cells": [
  {
   "cell_type": "code",
   "execution_count": 1,
   "id": "224b5d56",
   "metadata": {},
   "outputs": [
    {
     "name": "stdout",
     "output_type": "stream",
     "text": [
      "Requirement already satisfied: PyMuPDF in /Library/Frameworks/Python.framework/Versions/3.9/lib/python3.9/site-packages (1.23.15)\n",
      "Requirement already satisfied: python-docx in /Library/Frameworks/Python.framework/Versions/3.9/lib/python3.9/site-packages (1.1.0)\n",
      "Requirement already satisfied: PyMuPDFb==1.23.9 in /Library/Frameworks/Python.framework/Versions/3.9/lib/python3.9/site-packages (from PyMuPDF) (1.23.9)\n",
      "Requirement already satisfied: lxml>=3.1.0 in /Library/Frameworks/Python.framework/Versions/3.9/lib/python3.9/site-packages (from python-docx) (5.1.0)\n",
      "Requirement already satisfied: typing-extensions in /Library/Frameworks/Python.framework/Versions/3.9/lib/python3.9/site-packages (from python-docx) (4.9.0)\n",
      "Note: you may need to restart the kernel to use updated packages.\n"
     ]
    }
   ],
   "source": [
    "pip install PyMuPDF python-docx"
   ]
  },
  {
   "cell_type": "code",
   "execution_count": 5,
   "id": "356f9558",
   "metadata": {},
   "outputs": [],
   "source": [
    "import fitz  # PyMuPDF\n",
    "from docx import Document\n",
    "\n",
    "def pdf_to_text(pdf_path):\n",
    "    doc = fitz.open(pdf_path)\n",
    "    text = \"\"\n",
    "    for page_number in range(doc.page_count):\n",
    "        page = doc[page_number]\n",
    "        text += page.get_text()\n",
    "    return text\n",
    "\n",
    "def text_to_word(text, output_path):\n",
    "    doc = Document()\n",
    "    doc.add_paragraph(text)\n",
    "    doc.save(output_path)\n",
    "\n",
    "def convert_pdf_to_word(pdf_path, output_path):\n",
    "    text_content = pdf_to_text(pdf_path)\n",
    "    text_to_word(text_content, output_path)\n",
    "\n",
    "# Replace 'input.pdf' and 'output.docx' with your file paths\n",
    "pdf_file_path = 'Principal-Sample-Life-Insurance-Policy.pdf'\n",
    "word_output_path = 'Principal-Sample-Life-Insurance-Policy.pdf.docx'\n",
    "\n",
    "convert_pdf_to_word(pdf_file_path, word_output_path)"
   ]
  },
  {
   "cell_type": "code",
   "execution_count": null,
   "id": "86345820",
   "metadata": {},
   "outputs": [],
   "source": []
  }
 ],
 "metadata": {
  "kernelspec": {
   "display_name": "myenv",
   "language": "python",
   "name": "myenv"
  },
  "language_info": {
   "codemirror_mode": {
    "name": "ipython",
    "version": 3
   },
   "file_extension": ".py",
   "mimetype": "text/x-python",
   "name": "python",
   "nbconvert_exporter": "python",
   "pygments_lexer": "ipython3",
   "version": "3.9.12"
  }
 },
 "nbformat": 4,
 "nbformat_minor": 5
}
