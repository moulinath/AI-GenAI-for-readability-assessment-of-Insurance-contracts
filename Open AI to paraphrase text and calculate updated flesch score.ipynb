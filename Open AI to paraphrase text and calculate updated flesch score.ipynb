{
 "cells": [
  {
   "cell_type": "code",
   "execution_count": 1,
   "id": "470cd22d",
   "metadata": {},
   "outputs": [
    {
     "name": "stdout",
     "output_type": "stream",
     "text": [
      "Requirement already satisfied: python-docx in /Library/Frameworks/Python.framework/Versions/3.9/lib/python3.9/site-packages (1.1.0)\n",
      "Requirement already satisfied: lxml>=3.1.0 in /Library/Frameworks/Python.framework/Versions/3.9/lib/python3.9/site-packages (from python-docx) (5.1.0)\n",
      "Requirement already satisfied: typing-extensions in /Library/Frameworks/Python.framework/Versions/3.9/lib/python3.9/site-packages (from python-docx) (4.9.0)\n",
      "Note: you may need to restart the kernel to use updated packages.\n"
     ]
    }
   ],
   "source": [
    "pip install python-docx"
   ]
  },
  {
   "cell_type": "code",
   "execution_count": 3,
   "id": "7739534c",
   "metadata": {},
   "outputs": [
    {
     "name": "stdout",
     "output_type": "stream",
     "text": [
      "Original Flesch Score: -10.41\n",
      "Paraphrased Flesch Score: -6.35\n"
     ]
    }
   ],
   "source": [
    "import openai\n",
    "import textstat\n",
    "from docx import Document\n",
    "\n",
    "# Set your OpenAI GPT-3 API key\n",
    "openai.api_key = 'Your API'\n",
    "\n",
    "def read_text_from_docx(file_path):\n",
    "    doc = Document(file_path)\n",
    "    paragraphs = [paragraph.text for paragraph in doc.paragraphs]\n",
    "    return '\\n'.join(paragraphs)\n",
    "\n",
    "def paraphrase_with_gpt3(text):\n",
    "    response = openai.Completion.create(\n",
    "        engine=\"gpt-3.5-turbo-instruct\",\n",
    "        prompt=text,\n",
    "        temperature=0.7,\n",
    "        max_tokens=150\n",
    "    )\n",
    "\n",
    "    paraphrased_text = response['choices'][0]['text']\n",
    "    return paraphrased_text\n",
    "\n",
    "# Replace 'path/to/your/insurance_contract.docx' with the actual file path\n",
    "file_path = 'Declaration Page Sample Homeowners 12.docx'\n",
    "insurance_contract_text = read_text_from_docx(file_path)\n",
    "\n",
    "# Use GPT-3 to generate paraphrased text\n",
    "paraphrased_text = paraphrase_with_gpt3(insurance_contract_text)\n",
    "\n",
    "# Compute Flesch scores for both the original and paraphrased text\n",
    "original_flesch_score = textstat.flesch_reading_ease(insurance_contract_text)\n",
    "paraphrased_flesch_score = textstat.flesch_reading_ease(paraphrased_text)\n",
    "\n",
    "# Output Flesch scores\n",
    "print(\"Original Flesch Score:\", original_flesch_score)\n",
    "print(\"Paraphrased Flesch Score:\", paraphrased_flesch_score)"
   ]
  },
  {
   "cell_type": "code",
   "execution_count": null,
   "id": "f0a498d2",
   "metadata": {},
   "outputs": [],
   "source": []
  }
 ],
 "metadata": {
  "kernelspec": {
   "display_name": "myenv",
   "language": "python",
   "name": "myenv"
  },
  "language_info": {
   "codemirror_mode": {
    "name": "ipython",
    "version": 3
   },
   "file_extension": ".py",
   "mimetype": "text/x-python",
   "name": "python",
   "nbconvert_exporter": "python",
   "pygments_lexer": "ipython3",
   "version": "3.9.12"
  }
 },
 "nbformat": 4,
 "nbformat_minor": 5
}
