{
 "cells": [
  {
   "cell_type": "code",
   "execution_count": 1,
   "id": "35d0745d",
   "metadata": {},
   "outputs": [
    {
     "name": "stdout",
     "output_type": "stream",
     "text": [
      "Requirement already satisfied: python-docx in /Library/Frameworks/Python.framework/Versions/3.9/lib/python3.9/site-packages (1.1.0)\n",
      "Requirement already satisfied: lxml>=3.1.0 in /Library/Frameworks/Python.framework/Versions/3.9/lib/python3.9/site-packages (from python-docx) (5.1.0)\n",
      "Requirement already satisfied: typing-extensions in /Library/Frameworks/Python.framework/Versions/3.9/lib/python3.9/site-packages (from python-docx) (4.9.0)\n",
      "Note: you may need to restart the kernel to use updated packages.\n"
     ]
    }
   ],
   "source": [
    "pip install python-docx"
   ]
  },
  {
   "cell_type": "code",
   "execution_count": 1,
   "id": "2d2d5bde",
   "metadata": {},
   "outputs": [
    {
     "name": "stdout",
     "output_type": "stream",
     "text": [
      "Flesch-Kincaid Grade Level: 12.53\n"
     ]
    }
   ],
   "source": [
    "from docx import Document\n",
    "import re\n",
    "\n",
    "def calculate_flesch_kincaid(text):\n",
    "    words = re.findall(r'\\b\\w+\\b', text)\n",
    "    total_words = len(words)\n",
    "    \n",
    "    sentences = re.split(r'[.!?]', text)\n",
    "    total_sentences = len(sentences)\n",
    "    \n",
    "    syllables = sum(len(re.findall('(?!e$)[aeiouy]+', word.lower())) for word in words)\n",
    "    \n",
    "    flesch_kincaid = 0.39 * (total_words / total_sentences) + 11.8 * (syllables / total_words) - 15.59\n",
    "    \n",
    "    return round(flesch_kincaid, 2)\n",
    "\n",
    "def read_word_document(file_path):\n",
    "    doc = Document(file_path)\n",
    "    text = '\\n'.join([paragraph.text for paragraph in doc.paragraphs])\n",
    "    return text\n",
    "\n",
    "# Replace 'your_document.docx' with the path to your Word document\n",
    "document_path = 'Principal-Sample-Life-Insurance-Policy.docx'\n",
    "text_content = read_word_document(document_path)\n",
    "\n",
    "flesch_kincaid_grade = calculate_flesch_kincaid(text_content)\n",
    "print(f\"Flesch-Kincaid Grade Level: {flesch_kincaid_grade}\")"
   ]
  },
  {
   "cell_type": "code",
   "execution_count": null,
   "id": "bfa369dc",
   "metadata": {},
   "outputs": [],
   "source": []
  }
 ],
 "metadata": {
  "kernelspec": {
   "display_name": "myenv",
   "language": "python",
   "name": "myenv"
  },
  "language_info": {
   "codemirror_mode": {
    "name": "ipython",
    "version": 3
   },
   "file_extension": ".py",
   "mimetype": "text/x-python",
   "name": "python",
   "nbconvert_exporter": "python",
   "pygments_lexer": "ipython3",
   "version": "3.9.12"
  }
 },
 "nbformat": 4,
 "nbformat_minor": 5
}
